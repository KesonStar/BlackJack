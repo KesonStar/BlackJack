{
 "cells": [
  {
   "cell_type": "code",
   "execution_count": 4,
   "metadata": {},
   "outputs": [],
   "source": [
    "from Game.BlackJack import BlackJack\n",
    "from Agent.random.randomagent import RandomAgent\n",
    "from Agent.nn.nnagent import nnAgent\n",
    "from Agent.LLM.LLM_Agent import LLM"
   ]
  },
  {
   "cell_type": "code",
   "execution_count": 5,
   "metadata": {},
   "outputs": [],
   "source": [
    "# agent = nnAgent()\n",
    "game = BlackJack(\"novel\")"
   ]
  },
  {
   "cell_type": "code",
   "execution_count": null,
   "metadata": {},
   "outputs": [
    {
     "name": "stdout",
     "output_type": "stream",
     "text": [
      "Dealer shows: 2♦\n",
      "I choose : stay\n",
      "dealer's hand: 2♦ 6♦ J♥ 18  player's hand: 9♦ A♣ 20\n",
      "win\n",
      "Dealer shows: 8♦\n",
      "I choose : hit\n",
      "I choose : stay\n",
      "dealer's hand: 8♦ 3♦ J♣ 21  player's hand: 7♥ 2♥ K♥ 19\n",
      "loss\n",
      "Dealer shows: 9♣\n",
      "I choose : stay\n",
      "dealer's hand: 9♣ 5♣ 10♣ 24  player's hand: 7♠ Q♦ 17\n",
      "win\n",
      "Dealer shows: 5♥\n",
      "I choose : stay\n",
      "dealer's hand: 5♥ Q♣ 7♣ 22  player's hand: Q♥ K♠ 20\n",
      "win\n",
      "Dealer shows: 4♦\n",
      "I choose : hit\n",
      "I choose : stay\n",
      "dealer's hand: 4♦ 3♥ 8♠ 4♠ 19  player's hand: 4♥ 6♠ 9♠ 19\n",
      "draw\n"
     ]
    }
   ],
   "source": [
    "\n",
    "for i in range(5):\n",
    "    agent = LLM()\n",
    "    game.start()\n",
    "    print(\"Dealer shows:\", game.format_cards(game.dealer_hand[:1]))\n",
    "    while game.status == \"continue\":\n",
    "        action = agent.choose_action(game)\n",
    "        game.play(action, \"basic\")\n",
    "    print(f\"dealer's hand: {game.format_cards(game.dealer_hand)} {game.get_dealervalue()}  player's hand: {game.format_cards(game.player_hand)} {game.get_playervalue()}\")\n",
    "    print(game.game_result())\n",
    "    \n",
    "    if len(game.deck) < 20:\n",
    "        game.reset()"
   ]
  },
  {
   "cell_type": "code",
   "execution_count": null,
   "metadata": {},
   "outputs": [],
   "source": []
  }
 ],
 "metadata": {
  "kernelspec": {
   "display_name": "Python 3",
   "language": "python",
   "name": "python3"
  },
  "language_info": {
   "codemirror_mode": {
    "name": "ipython",
    "version": 3
   },
   "file_extension": ".py",
   "mimetype": "text/x-python",
   "name": "python",
   "nbconvert_exporter": "python",
   "pygments_lexer": "ipython3",
   "version": "3.11.9"
  }
 },
 "nbformat": 4,
 "nbformat_minor": 2
}
