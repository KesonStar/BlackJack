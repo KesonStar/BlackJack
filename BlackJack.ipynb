{
 "cells": [
  {
   "cell_type": "code",
   "execution_count": 1,
   "metadata": {},
   "outputs": [],
   "source": [
    "from Game.BlackJack import BlackJack\n",
    "from Agent.random.randomagent import RandomAgent\n",
    "from Agent.nn.nnagent import nnAgent"
   ]
  },
  {
   "cell_type": "code",
   "execution_count": 25,
   "metadata": {},
   "outputs": [
    {
     "name": "stderr",
     "output_type": "stream",
     "text": [
      "d:\\SHTECH\\G3S1\\CS181 Introduction to AI\\Project\\Final\\Agent\\nn\\nnagent.py:48: FutureWarning: You are using `torch.load` with `weights_only=False` (the current default value), which uses the default pickle module implicitly. It is possible to construct malicious pickle data which will execute arbitrary code during unpickling (See https://github.com/pytorch/pytorch/blob/main/SECURITY.md#untrusted-models for more details). In a future release, the default value for `weights_only` will be flipped to `True`. This limits the functions that could be executed during unpickling. Arbitrary objects will no longer be allowed to be loaded via this mode unless they are explicitly allowlisted by the user via `torch.serialization.add_safe_globals`. We recommend you start setting `weights_only=True` for any use case where you don't have full control of the loaded file. Please open an issue on GitHub for any issues related to this experimental feature.\n",
      "  self.model.load_state_dict(torch.load(model))\n"
     ]
    }
   ],
   "source": [
    "agent = nnAgent()\n",
    "game = BlackJack(\"novel\")"
   ]
  },
  {
   "cell_type": "code",
   "execution_count": 42,
   "metadata": {},
   "outputs": [
    {
     "name": "stdout",
     "output_type": "stream",
     "text": [
      "Dealer shows: 7♠\n",
      "dealer's hand: 7♠ 9♦ 5♥ 21  player's hand: 2♥ J♣ 6♠ 2♠ 3♠ 23\n",
      "lose\n",
      "Dealer shows: 10♥\n",
      "dealer's hand: 10♥ 4♥ 7♥ 21  player's hand: A♦ 3♥ 6♣ 2♣ 8♠ J♦ 30\n",
      "lose\n",
      "Dealer shows: 2♣\n",
      "dealer's hand: 2♣ K♠ 10♦ 22  player's hand: 8♥ 6♦ 4♥ 5♣ 23\n",
      "draw\n",
      "Dealer shows: A♥\n",
      "dealer's hand: A♥ 9♦ 20  player's hand: 5♦ 6♥ 3♥ 2♦ A♠ Q♥ 27\n",
      "lose\n",
      "Dealer shows: 6♠\n",
      "dealer's hand: 6♠ 8♣ 5♥ 19  player's hand: 3♦ 7♥ 10♣ J♦ 30\n",
      "lose\n"
     ]
    }
   ],
   "source": [
    "\n",
    "for i in range(5):\n",
    "    game.start()\n",
    "    print(\"Dealer shows:\", game.format_cards(game.dealer_hand[:1]))\n",
    "    while game.status == \"continue\":\n",
    "        action = agent.choose_action()\n",
    "        game.play(action, \"basic\")\n",
    "    print(f\"dealer's hand: {game.format_cards(game.dealer_hand)} {game.get_dealervalue()}  player's hand: {game.format_cards(game.player_hand)} {game.get_playervalue()}\")\n",
    "    print(game.game_result())\n",
    "    \n",
    "    if len(game.deck) < 20:\n",
    "        game.reset()"
   ]
  },
  {
   "cell_type": "code",
   "execution_count": null,
   "metadata": {},
   "outputs": [],
   "source": []
  }
 ],
 "metadata": {
  "kernelspec": {
   "display_name": "transformers",
   "language": "python",
   "name": "python3"
  },
  "language_info": {
   "codemirror_mode": {
    "name": "ipython",
    "version": 3
   },
   "file_extension": ".py",
   "mimetype": "text/x-python",
   "name": "python",
   "nbconvert_exporter": "python",
   "pygments_lexer": "ipython3",
   "version": "3.9.20"
  }
 },
 "nbformat": 4,
 "nbformat_minor": 2
}
