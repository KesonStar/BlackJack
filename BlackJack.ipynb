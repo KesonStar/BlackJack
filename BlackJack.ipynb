{
 "cells": [
  {
   "cell_type": "code",
   "execution_count": 1,
   "metadata": {},
   "outputs": [],
   "source": [
    "from tqdm import trange\n",
    "import numpy as np\n",
    "\n",
    "\n",
    "from Game.BlackJack import BlackJack\n",
    "from Agent.random.randomagent import RandomAgent\n",
    "from Agent.nn.nnagent import nnAgent\n",
    "from Agent.LLM.LLM_Agent import LLMAgent\n",
    "from Agent.base.baseAgent import BaseAgent\n",
    "from Agent.qlearning.qLearningAgent import qLearningAgent"
   ]
  },
  {
   "cell_type": "code",
   "execution_count": 2,
   "metadata": {},
   "outputs": [],
   "source": [
    "# agent = nnAgent()\n",
    "game = BlackJack(\"novel\")\n",
    "agent = qLearningAgent()"
   ]
  },
  {
   "cell_type": "code",
   "execution_count": 3,
   "metadata": {},
   "outputs": [
    {
     "name": "stderr",
     "output_type": "stream",
     "text": [
      "100%|██████████| 100000/100000 [00:00<00:00, 118361.46it/s]"
     ]
    },
    {
     "name": "stdout",
     "output_type": "stream",
     "text": [
      "win_rate: 0.52304, lose_rate: 0.39973, draw_rate: 0.07723\n"
     ]
    },
    {
     "name": "stderr",
     "output_type": "stream",
     "text": [
      "\n"
     ]
    }
   ],
   "source": [
    "results = {\"win\": 0, \"lose\": 0, \"draw\": 0}\n",
    "rounds = 100000\n",
    "for i in trange(rounds):\n",
    "    game.start()\n",
    "    # print(\"Dealer shows:\", game.format_cards(game.dealer_hand[:1]))\n",
    "    while game.status == \"continue\":\n",
    "        action = agent.choose_action(game)\n",
    "        game.play(action, \"basic\")\n",
    "        if action == \"stay\":\n",
    "            break\n",
    "    # print(f\"dealer's hand: {game.format_cards(game.dealer_hand)} {game.get_dealervalue()}  player's hand: {game.format_cards(game.player_hand)} {game.get_playervalue()}\")\n",
    "    results[game.game_result()] += 1\n",
    "    \n",
    "    if len(game.deck) < 20:\n",
    "        game.reset()\n",
    "        \n",
    "print(f\"win_rate: {results['win']/rounds}, lose_rate: {results['lose']/rounds}, draw_rate: {results['draw']/rounds}\")"
   ]
  },
  {
   "cell_type": "code",
   "execution_count": null,
   "metadata": {},
   "outputs": [],
   "source": []
  }
 ],
 "metadata": {
  "kernelspec": {
   "display_name": "transformers",
   "language": "python",
   "name": "python3"
  },
  "language_info": {
   "codemirror_mode": {
    "name": "ipython",
    "version": 3
   },
   "file_extension": ".py",
   "mimetype": "text/x-python",
   "name": "python",
   "nbconvert_exporter": "python",
   "pygments_lexer": "ipython3",
   "version": "3.9.20"
  }
 },
 "nbformat": 4,
 "nbformat_minor": 2
}
