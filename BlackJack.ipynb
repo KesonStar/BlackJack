{
 "cells": [
  {
   "cell_type": "code",
   "execution_count": null,
   "metadata": {},
   "outputs": [],
   "source": []
  },
  {
   "cell_type": "code",
   "execution_count": 1,
   "metadata": {},
   "outputs": [],
   "source": [
    "from Game.BlackJack import BlackJack\n",
    "from Agent.random.randomagent import RandomAgent\n",
    "from Agent.nn.nnagent import nnAgent\n",
    "from Agent.qlearning.qLearningAgent import qLearningAgent\n",
    "from Agent.expectimax.expectimaxAgent import ExpectimaxAgent\n",
    "from Agent.base.baseAgent import BaseAgent\n",
    "\n",
    "import numpy as np\n",
    "from tqdm import trange"
   ]
  },
  {
   "cell_type": "code",
   "execution_count": 2,
   "metadata": {},
   "outputs": [],
   "source": [
    "game = BlackJack(\"novel\")\n",
    "agent1 = qLearningAgent()\n",
    "agent2 = BaseAgent()"
   ]
  },
  {
   "cell_type": "code",
   "execution_count": 14,
   "metadata": {},
   "outputs": [
    {
     "name": "stderr",
     "output_type": "stream",
     "text": [
      "100%|██████████| 100000/100000 [00:01<00:00, 56999.23it/s]"
     ]
    },
    {
     "name": "stdout",
     "output_type": "stream",
     "text": [
      "win rates: 0.52302 lose rates: 0.39892 draw rates: 0.07806\n",
      "0.5673037290929995\n"
     ]
    },
    {
     "name": "stderr",
     "output_type": "stream",
     "text": [
      "\n"
     ]
    },
    {
     "data": {
      "image/png": "[encoded data removed]",
      "text/plain": [
       "<Figure size 640x480 with 1 Axes>"
      ]
     },
     "metadata": {},
     "output_type": "display_data"
    }
   ],
   "source": [
    "results = {\"win\": 0, \"lose\": 0, \"draw\": 0}\n",
    "rounds = 100000\n",
    "\n",
    "for i in trange(rounds):\n",
    "    game.start()\n",
    "    # print(\"Dealer shows:\", game.format_cards(game.dealer_hand[:1]))\n",
    "    while game.status == \"continue\":\n",
    "        action = agent1.choose_action(game)\n",
    "        game.play(action, \"basic\")\n",
    "        if action == \"stay\":\n",
    "            break\n",
    "    # print(f\"dealer's hand: {game.format_cards(game.dealer_hand)} {game.get_dealervalue()}  player's hand: {game.format_cards(game.player_hand)} {game.get_playervalue()}\")\n",
    "    \n",
    "    results[game.game_result()] += 1\n",
    "    \n",
    "    # if len(game.deck) < 20:\n",
    "    #     game.reset()\n",
    "    game.reset()\n",
    "        \n",
    "print(f\"win rates: {results['win']/rounds} lose rates: {results['lose']/rounds} draw rates: {results['draw']/rounds}\")\n",
    "print(results[\"win\"]/(results[\"win\"]+results[\"lose\"]))\n",
    "# Draw a bar graph\n",
    "import matplotlib.pyplot as plt\n",
    "\n",
    "fig = plt.figure()\n",
    "ax = fig.add_axes([0,0,1,1])\n",
    "ax.bar(results.keys(), results.values())\n",
    "plt.show()\n"
   ]
  },
  {
   "cell_type": "code",
   "execution_count": null,
   "metadata": {},
   "outputs": [],
   "source": []
  }
 ],
 "metadata": {
  "kernelspec": {
   "display_name": "transformers",
   "language": "python",
   "name": "python3"
  },
  "language_info": {
   "codemirror_mode": {
    "name": "ipython",
    "version": 3
   },
   "file_extension": ".py",
   "mimetype": "text/x-python",
   "name": "python",
   "nbconvert_exporter": "python",
   "pygments_lexer": "ipython3",
   "version": "3.9.20"
  }
 },
 "nbformat": 4,
 "nbformat_minor": 2
}
