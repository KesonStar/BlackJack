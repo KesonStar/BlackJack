{
 "cells": [
  {
   "cell_type": "code",
   "execution_count": 8,
   "metadata": {},
   "outputs": [],
   "source": [
    "from Game.BlackJack import BlackJack\n",
    "import numpy as np\n",
    "import pandas as pd\n",
    "from tqdm import trange\n",
    "import matplotlib.pyplot as plt"
   ]
  },
  {
   "cell_type": "markdown",
   "metadata": {},
   "source": [
    "## 1. Simulation and Labeled Data Generation\n",
    "> In this part, we generate the labeled data for the training of the model. We will simulate the game process and generate the training data simultaneously. The data will be stored in a csv file for the training of the model."
   ]
  },
  {
   "cell_type": "code",
   "execution_count": 14,
   "metadata": {},
   "outputs": [
    {
     "name": "stderr",
     "output_type": "stream",
     "text": [
      "100%|██████████| 40000/40000 [00:02<00:00, 17014.12it/s]\n"
     ]
    }
   ],
   "source": [
    "rounds = 40000\n",
    "num_decks = 1\n",
    "\n",
    "dealer_card_feature = []\n",
    "player_card_feature = []\n",
    "player_live_total = []\n",
    "player_live_action = []\n",
    "player_results = []\n",
    "dealer_bust = []\n",
    "\n",
    "first_game = True\n",
    "prev_round = 0\n",
    "stack_num_list = []\n",
    "new_stack = []\n",
    "card_count_list = []\n",
    "games_played_with_stack = []\n",
    "\n",
    "for round in trange(rounds):\n",
    "    games_played = 0\n",
    "    \n",
    "    # Make a dict for keeping track of the count for a stack\n",
    "    \n",
    "    game = BlackJack()\n",
    "    \n",
    "    while len(game.deck) > 20:\n",
    "\n",
    "        game.start()\n",
    "        curr_player_results = None\n",
    "        \n",
    "        dealer_hand = []\n",
    "        player_hands = []\n",
    "        live_total = []\n",
    "        live_action = []\n",
    "\n",
    "       \n",
    "        \n",
    "        # Record the player's live total after cards are dealt\n",
    "        live_total.append(game.get_playervalue())\n",
    "        \n",
    "        if round < rounds / 2:\n",
    "            hit_stay = \"hit\"\n",
    "            action = 1\n",
    "        else:\n",
    "            hit_stay = \"stay\"\n",
    "            action = 0\n",
    "        \n",
    "        game.play(hit_stay, \"basic\")\n",
    "        \n",
    "        dealer_value = game.get_dealervalue()\n",
    "        player_value = game.get_playervalue()\n",
    "        if dealer_value > 21:\n",
    "            dealer_bust.append(1)\n",
    "            if player_value > 21:\n",
    "                curr_player_results = 0\n",
    "            else:\n",
    "                curr_player_results = 1\n",
    "        else:\n",
    "            dealer_bust.append(0)\n",
    "            if player_value > 21:\n",
    "                curr_player_results = -1\n",
    "            elif player_value > dealer_value:\n",
    "                curr_player_results = 1\n",
    "            elif player_value == dealer_value:\n",
    "                curr_player_results = 0\n",
    "            else:\n",
    "                curr_player_results = -1\n",
    "\n",
    "        # Track features\n",
    "        dealer_card_feature.append(game.dealer_hand[0]['number'])\n",
    "        player_card_feature.append(game.player_hand.copy())\n",
    "        player_results.append(curr_player_results)\n",
    "        # player_live_total.append(live_total)\n",
    "        player_live_action.append(action)\n",
    "        \n",
    "        # Update card count list with most recent game's card count\n",
    "        if round != prev_round:\n",
    "            new_stack.append(1)\n",
    "        else:\n",
    "            new_stack.append(0)\n",
    "            if first_game == True:\n",
    "                first_game = False\n",
    "            else:\n",
    "                games_played += 1\n",
    "            \n",
    "        stack_num_list.append(round)\n",
    "        games_played_with_stack.append(games_played)\n",
    "        card_count_list.append(game.card_count.copy())\n",
    "        prev_round = round\n",
    "\n",
    "        \n",
    "    game.reset()\n",
    "        \n",
    "        \n",
    "        \n",
    "model_df = pd.DataFrame()\n",
    "model_df['dealer_card'] = dealer_card_feature\n",
    "model_df['player_total_initial'] = [game.total_value(i[:2]) for i in player_card_feature]\n",
    "model_df['hit?'] = player_live_action\n",
    "\n",
    "has_ace = []\n",
    "for i in player_card_feature:\n",
    "    if ('A' in [card['number'] for card in i]):\n",
    "        has_ace.append(1)\n",
    "    else:\n",
    "        has_ace.append(0)\n",
    "model_df['has_ace'] = has_ace\n",
    "dealer_card_num = []\n",
    "for i in model_df['dealer_card']:\n",
    "    if i=='A':\n",
    "        dealer_card_num.append(11)\n",
    "    elif i in ['J', 'Q', 'K']:\n",
    "        dealer_card_num.append(10)\n",
    "    else:\n",
    "        dealer_card_num.append(i)\n",
    "model_df['dealer_card_num'] = dealer_card_num\n",
    "\n",
    "model_df['Y'] = player_results\n",
    "lose = []\n",
    "for i in model_df['Y']:\n",
    "    if i == -1:\n",
    "        lose.append(1)\n",
    "    else:\n",
    "        lose.append(0)\n",
    "model_df['lose'] = lose\n",
    "\n",
    "correct = []\n",
    "for i, val in enumerate(model_df['lose']):\n",
    "    if val == 1:\n",
    "        if player_live_action[i] == 1:\n",
    "            correct.append(0)\n",
    "        else:\n",
    "            correct.append(1)\n",
    "    else:\n",
    "        if player_live_action[i] == 1:\n",
    "            correct.append(1)\n",
    "        else:\n",
    "            correct.append(0)\n",
    "model_df['correct_action'] = correct\n",
    "card_count_df = pd.concat([pd.DataFrame(new_stack, columns=['new_stack']),\n",
    "                           pd.DataFrame(games_played_with_stack, columns=['games_played_with_stack']),\n",
    "                           pd.DataFrame.from_dict(card_count_list),\n",
    "                           pd.DataFrame(dealer_bust, columns=['dealer_bust'])], axis=1)\n",
    "model_df = pd.concat([model_df, card_count_df], axis=1)"
   ]
  },
  {
   "cell_type": "code",
   "execution_count": 15,
   "metadata": {},
   "outputs": [
    {
     "name": "stdout",
     "output_type": "stream",
     "text": [
      "21\n"
     ]
    }
   ],
   "source": [
    "print(len(model_df.columns))\n",
    "model_df.to_csv(\"./Data/blackjack_simulation_data.csv\", index=False)"
   ]
  },
  {
   "cell_type": "markdown",
   "metadata": {},
   "source": [
    "## 2. Model Evalutation\n",
    "> In this part, we will test different agents on the environment and compare their performance from different aspects.\n",
    "\n",
    "### 2.1 Win Rate\n",
    "We will test 10000 games for each agent and calculate the win rate of each agent."
   ]
  },
  {
   "cell_type": "code",
   "execution_count": 19,
   "metadata": {},
   "outputs": [],
   "source": [
    "\n",
    "from Game.BlackJack import BlackJack\n",
    "from Agent.random.randomagent import RandomAgent\n",
    "from Agent.nn.nnagent import nnAgent\n",
    "from Agent.LLM.LLM_Agent import LLMAgent\n",
    "from Agent.base.baseAgent import BaseAgent\n",
    "from Agent.qlearning.qLearningAgent import qLearningAgent\n",
    "from Agent.expectimax.expectimaxAgent import ExpectimaxAgent\n",
    "from Agent.MDP.MDPagent import MDPAgent"
   ]
  },
  {
   "cell_type": "code",
   "execution_count": 24,
   "metadata": {},
   "outputs": [],
   "source": [
    "# agent = nnAgent()\n",
    "\n",
    "agents = [RandomAgent(), BaseAgent(), ExpectimaxAgent(), MDPAgent(), qLearningAgent(), nnAgent()]"
   ]
  },
  {
   "cell_type": "code",
   "execution_count": 25,
   "metadata": {},
   "outputs": [
    {
     "name": "stderr",
     "output_type": "stream",
     "text": [
      "100%|██████████| 10000/10000 [00:00<00:00, 144082.17it/s]\n",
      "100%|██████████| 10000/10000 [00:00<00:00, 133259.96it/s]\n",
      "100%|██████████| 10000/10000 [00:00<00:00, 104961.51it/s]\n",
      "100%|██████████| 10000/10000 [00:00<00:00, 117379.33it/s]\n",
      "100%|██████████| 10000/10000 [00:00<00:00, 95509.38it/s]\n",
      "100%|██████████| 10000/10000 [00:13<00:00, 764.78it/s]\n"
     ]
    }
   ],
   "source": [
    "\n",
    "rounds = 10000\n",
    "rates = {}\n",
    "for agent in agents:\n",
    "    game = BlackJack(\"novel\")\n",
    "    results = {\"win\": 0, \"lose\": 0, \"draw\": 0}\n",
    "    for i in trange(rounds):\n",
    "        game.start()\n",
    "        # print(\"Dealer shows:\", game.format_cards(game.dealer_hand[:1]))\n",
    "        while game.status == \"continue\":\n",
    "            action = agent.choose_action(game)\n",
    "            game.play(action, \"basic\")\n",
    "            if action == \"stay\":\n",
    "                break\n",
    "        # print(f\"dealer's hand: {game.format_cards(game.dealer_hand)} {game.get_dealervalue()}  player's hand: {game.format_cards(game.player_hand)} {game.get_playervalue()}\")\n",
    "        results[game.game_result()] += 1\n",
    "        \n",
    "        if len(game.deck) < 20:\n",
    "            game.reset()\n",
    "        \n",
    "    rates[agent.__class__.__name__] = results[\"win\"] / rounds\n",
    "## Draw the bar chart of the win rate, lose rate, and draw rate\n",
    "\n"
   ]
  },
  {
   "cell_type": "code",
   "execution_count": 29,
   "metadata": {},
   "outputs": [
    {
     "data": {
      "image/png": "[encoded data removed]",
      "text/plain": [
       "<Figure size 640x480 with 1 Axes>"
      ]
     },
     "metadata": {},
     "output_type": "display_data"
    }
   ],
   "source": [
    "fig = plt.figure()\n",
    "ax = fig.add_axes([0,0,1,1])\n",
    "colors = ['red', 'cyan', 'green', 'orange', 'purple', \"LightBlue\"]\n",
    "ax.bar(rates.keys(), rates.values(), color=colors)\n",
    "ax.set_ylim(0.3, 0.55) \n",
    "plt.ylabel('Win Rate')\n",
    "plt.show()"
   ]
  },
  {
   "cell_type": "code",
   "execution_count": 27,
   "metadata": {},
   "outputs": [
    {
     "data": {
      "text/plain": [
       "{'RandomAgent': 0.4041,\n",
       " 'BaseAgent': 0.4922,\n",
       " 'ExpectimaxAgent': 0.4153,\n",
       " 'MDPAgent': 0.4576,\n",
       " 'qLearningAgent': 0.4931,\n",
       " 'nnAgent': 0.497}"
      ]
     },
     "execution_count": 27,
     "metadata": {},
     "output_type": "execute_result"
    }
   ],
   "source": [
    "rates"
   ]
  },
  {
   "cell_type": "code",
   "execution_count": null,
   "metadata": {},
   "outputs": [],
   "source": []
  }
 ],
 "metadata": {
  "kernelspec": {
   "display_name": "transformers",
   "language": "python",
   "name": "python3"
  },
  "language_info": {
   "codemirror_mode": {
    "name": "ipython",
    "version": 3
   },
   "file_extension": ".py",
   "mimetype": "text/x-python",
   "name": "python",
   "nbconvert_exporter": "python",
   "pygments_lexer": "ipython3",
   "version": "3.9.20"
  }
 },
 "nbformat": 4,
 "nbformat_minor": 2
}
